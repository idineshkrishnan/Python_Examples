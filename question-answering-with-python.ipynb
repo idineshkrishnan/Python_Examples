{
 "cells": [
  {
   "cell_type": "code",
   "execution_count": 4,
   "id": "1973d0bd",
   "metadata": {},
   "outputs": [],
   "source": [
    "from transformers import pipeline"
   ]
  },
  {
   "cell_type": "code",
   "execution_count": 5,
   "id": "83dadd84",
   "metadata": {},
   "outputs": [],
   "source": [
    "# Initialize a QA pipeline using the pre-trained model\n",
    "qa_model = pipeline(\"question-answering\", model=\"distilbert-base-cased-distilled-squad\")"
   ]
  },
  {
   "cell_type": "code",
   "execution_count": 6,
   "id": "3722ffbd",
   "metadata": {},
   "outputs": [],
   "source": [
    "# Define the context for the questions\n",
    "context = \"This is Dinesh Krishnan, I'm a Technology Consultant. I love exploring open-source technologies.\""
   ]
  },
  {
   "cell_type": "code",
   "execution_count": 7,
   "id": "8350d524",
   "metadata": {},
   "outputs": [],
   "source": [
    "# Use the QA pipeline to get the result\n",
    "result_1 = qa_model(question=\"What is my name?\", context=context)\n",
    "result_2 = qa_model(question=\"What is my profession?\", context=context)\n",
    "result_3 = qa_model(question=\"What I love to do?\", context=context)"
   ]
  },
  {
   "cell_type": "code",
   "execution_count": 8,
   "id": "afb8cd7d",
   "metadata": {},
   "outputs": [
    {
     "name": "stdout",
     "output_type": "stream",
     "text": [
      "{'score': 0.9937047958374023, 'start': 8, 'end': 23, 'answer': 'Dinesh Krishnan'}\n",
      "{'score': 0.9472899436950684, 'start': 31, 'end': 52, 'answer': 'Technology Consultant'}\n",
      "{'score': 0.8403910398483276, 'start': 61, 'end': 95, 'answer': 'exploring open-source technologies'}\n"
     ]
    }
   ],
   "source": [
    "# Print the results\n",
    "print(result_1)\n",
    "print(result_2)\n",
    "print(result_3)"
   ]
  },
  {
   "cell_type": "code",
   "execution_count": null,
   "id": "8c1786c2",
   "metadata": {},
   "outputs": [],
   "source": []
  }
 ],
 "metadata": {
  "kernelspec": {
   "display_name": "Python 3 (ipykernel)",
   "language": "python",
   "name": "python3"
  },
  "language_info": {
   "codemirror_mode": {
    "name": "ipython",
    "version": 3
   },
   "file_extension": ".py",
   "mimetype": "text/x-python",
   "name": "python",
   "nbconvert_exporter": "python",
   "pygments_lexer": "ipython3",
   "version": "3.9.7"
  }
 },
 "nbformat": 4,
 "nbformat_minor": 5
}
