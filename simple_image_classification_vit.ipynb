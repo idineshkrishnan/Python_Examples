{
 "cells": [
  {
   "cell_type": "code",
   "execution_count": 15,
   "id": "3e14adc2",
   "metadata": {},
   "outputs": [],
   "source": [
    "from transformers import ViTImageProcessor, ViTForImageClassification"
   ]
  },
  {
   "cell_type": "code",
   "execution_count": 16,
   "id": "e66d852f",
   "metadata": {},
   "outputs": [],
   "source": [
    "from PIL import Image"
   ]
  },
  {
   "cell_type": "code",
   "execution_count": 17,
   "id": "c394d5ae",
   "metadata": {},
   "outputs": [],
   "source": [
    "import requests"
   ]
  },
  {
   "cell_type": "code",
   "execution_count": 18,
   "id": "6400104f",
   "metadata": {},
   "outputs": [],
   "source": [
    "# Download image from URL\n",
    "url = 'https://images.pexels.com/photos/3299906/pexels-photo-3299906.jpeg'\n",
    "image = Image.open(requests.get(url, stream=True).raw)"
   ]
  },
  {
   "cell_type": "code",
   "execution_count": 21,
   "id": "9939be09",
   "metadata": {},
   "outputs": [],
   "source": [
    "# Load ViT model and image processor\n",
    "image_processor = ViTImageProcessor.from_pretrained('google/vit-base-patch16-224')\n",
    "image_classification_model = ViTForImageClassification.from_pretrained('google/vit-base-patch16-224')"
   ]
  },
  {
   "cell_type": "code",
   "execution_count": 24,
   "id": "8e74c43d",
   "metadata": {},
   "outputs": [],
   "source": [
    "# Preprocess image using image processor\n",
    "processed_image = image_processor(images=image, return_tensors=\"pt\")"
   ]
  },
  {
   "cell_type": "code",
   "execution_count": 25,
   "id": "c739164b",
   "metadata": {},
   "outputs": [],
   "source": [
    "# Make a prediction on the image using the ViT model\n",
    "model_output = image_classification_model(**processed_image)\n",
    "logits = model_output.logits"
   ]
  },
  {
   "cell_type": "code",
   "execution_count": 30,
   "id": "07acd249",
   "metadata": {},
   "outputs": [],
   "source": [
    "# Get the predicted class index from the logits\n",
    "predicted_class_index = logits.argmax(-1).item()"
   ]
  },
  {
   "cell_type": "code",
   "execution_count": 33,
   "id": "3334da4a",
   "metadata": {},
   "outputs": [
    {
     "name": "stdout",
     "output_type": "stream",
     "text": [
      "Predicted class:  toy poodle\n"
     ]
    }
   ],
   "source": [
    "# Print the predicted class label\n",
    "predicted_class_label = image_classification_model.config.id2label[predicted_class_index]\n",
    "print(\"Predicted class: \", predicted_class_label)"
   ]
  }
 ],
 "metadata": {
  "kernelspec": {
   "display_name": "Python 3 (ipykernel)",
   "language": "python",
   "name": "python3"
  },
  "language_info": {
   "codemirror_mode": {
    "name": "ipython",
    "version": 3
   },
   "file_extension": ".py",
   "mimetype": "text/x-python",
   "name": "python",
   "nbconvert_exporter": "python",
   "pygments_lexer": "ipython3",
   "version": "3.9.7"
  }
 },
 "nbformat": 4,
 "nbformat_minor": 5
}
