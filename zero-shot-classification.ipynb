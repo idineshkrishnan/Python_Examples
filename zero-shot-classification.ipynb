{
 "cells": [
  {
   "cell_type": "code",
   "execution_count": 7,
   "id": "21bfa0c2",
   "metadata": {},
   "outputs": [],
   "source": [
    "from transformers import pipeline"
   ]
  },
  {
   "cell_type": "code",
   "execution_count": 8,
   "id": "af7ec7b1",
   "metadata": {},
   "outputs": [],
   "source": [
    "# Create a zero-shot classification pipeline with the specified model\n",
    "zero_shot_classifier = pipeline(\"zero-shot-classification\", model=\"facebook/bart-large-mnli\")"
   ]
  },
  {
   "cell_type": "code",
   "execution_count": 9,
   "id": "1b11b720",
   "metadata": {},
   "outputs": [],
   "source": [
    "# Define the new sequence to classify\n",
    "input_sequence = \"I love learning about the stars and planets\""
   ]
  },
  {
   "cell_type": "code",
   "execution_count": 10,
   "id": "a1b90e91",
   "metadata": {},
   "outputs": [],
   "source": [
    "# Define the new candidate labels\n",
    "label_candidates = [\"astronomy\", \"sports\", \"music\"]"
   ]
  },
  {
   "cell_type": "code",
   "execution_count": 11,
   "id": "6a6ff2dd",
   "metadata": {},
   "outputs": [],
   "source": [
    "# Perform classification on the input_sequence using the label_candidates\n",
    "classification_results = zero_shot_classifier(input_sequence, label_candidates)"
   ]
  },
  {
   "cell_type": "code",
   "execution_count": 12,
   "id": "b39d06f4",
   "metadata": {},
   "outputs": [
    {
     "name": "stdout",
     "output_type": "stream",
     "text": [
      "{'sequence': 'I love learning about the stars and planets', 'labels': ['astronomy', 'sports', 'music'], 'scores': [0.9832481145858765, 0.008683388121426105, 0.008068539202213287]}\n"
     ]
    }
   ],
   "source": [
    "# Print the classification results\n",
    "print(classification_results)"
   ]
  },
  {
   "cell_type": "code",
   "execution_count": null,
   "id": "96aeab44",
   "metadata": {},
   "outputs": [],
   "source": []
  }
 ],
 "metadata": {
  "kernelspec": {
   "display_name": "Python 3 (ipykernel)",
   "language": "python",
   "name": "python3"
  },
  "language_info": {
   "codemirror_mode": {
    "name": "ipython",
    "version": 3
   },
   "file_extension": ".py",
   "mimetype": "text/x-python",
   "name": "python",
   "nbconvert_exporter": "python",
   "pygments_lexer": "ipython3",
   "version": "3.9.7"
  }
 },
 "nbformat": 4,
 "nbformat_minor": 5
}
